{
 "cells": [
  {
   "cell_type": "code",
   "execution_count": 2,
   "id": "f38917a6",
   "metadata": {},
   "outputs": [],
   "source": [
    "import psycopg2\n",
    "from sqlalchemy import create_engine"
   ]
  },
  {
   "cell_type": "code",
   "execution_count": 3,
   "id": "31b30d77",
   "metadata": {},
   "outputs": [],
   "source": [
    "import pandas as pd"
   ]
  },
  {
   "cell_type": "code",
   "execution_count": 4,
   "id": "07c836fb",
   "metadata": {},
   "outputs": [],
   "source": [
    "df = pd.DataFrame( {'氏名': ['高橋', '伊藤', '渡辺', '加藤'],\n",
    "                   '出席番号' : ['a001', 'a002', 'a005', 'a006'],\n",
    "                   '国語' : [5, 6, 7, 8]}).set_index('氏名')"
   ]
  },
  {
   "cell_type": "code",
   "execution_count": 5,
   "id": "273dd30a",
   "metadata": {},
   "outputs": [
    {
     "data": {
      "text/html": [
       "<div>\n",
       "<style scoped>\n",
       "    .dataframe tbody tr th:only-of-type {\n",
       "        vertical-align: middle;\n",
       "    }\n",
       "\n",
       "    .dataframe tbody tr th {\n",
       "        vertical-align: top;\n",
       "    }\n",
       "\n",
       "    .dataframe thead th {\n",
       "        text-align: right;\n",
       "    }\n",
       "</style>\n",
       "<table border=\"1\" class=\"dataframe\">\n",
       "  <thead>\n",
       "    <tr style=\"text-align: right;\">\n",
       "      <th></th>\n",
       "      <th>出席番号</th>\n",
       "      <th>国語</th>\n",
       "    </tr>\n",
       "    <tr>\n",
       "      <th>氏名</th>\n",
       "      <th></th>\n",
       "      <th></th>\n",
       "    </tr>\n",
       "  </thead>\n",
       "  <tbody>\n",
       "    <tr>\n",
       "      <th>高橋</th>\n",
       "      <td>a001</td>\n",
       "      <td>5</td>\n",
       "    </tr>\n",
       "    <tr>\n",
       "      <th>伊藤</th>\n",
       "      <td>a002</td>\n",
       "      <td>6</td>\n",
       "    </tr>\n",
       "    <tr>\n",
       "      <th>渡辺</th>\n",
       "      <td>a005</td>\n",
       "      <td>7</td>\n",
       "    </tr>\n",
       "    <tr>\n",
       "      <th>加藤</th>\n",
       "      <td>a006</td>\n",
       "      <td>8</td>\n",
       "    </tr>\n",
       "  </tbody>\n",
       "</table>\n",
       "</div>"
      ],
      "text/plain": [
       "    出席番号  国語\n",
       "氏名          \n",
       "高橋  a001   5\n",
       "伊藤  a002   6\n",
       "渡辺  a005   7\n",
       "加藤  a006   8"
      ]
     },
     "execution_count": 5,
     "metadata": {},
     "output_type": "execute_result"
    }
   ],
   "source": [
    "df"
   ]
  },
  {
   "cell_type": "code",
   "execution_count": 6,
   "id": "7883527f",
   "metadata": {},
   "outputs": [],
   "source": [
    "connection_config = {\n",
    "    'user': 'kengineer',\n",
    "    'password': 'Diru4690.',\n",
    "    'host': 'localhost',\n",
    "    'port': '5432',\n",
    "    'database': 'mydb'\n",
    "}"
   ]
  },
  {
   "cell_type": "code",
   "execution_count": 7,
   "id": "5abd5f7b",
   "metadata": {},
   "outputs": [],
   "source": [
    "engine = create_engine('postgresql://{user}:{password}@{host}:{port}/{database}'\n",
    "                      .format(**connection_config))"
   ]
  },
  {
   "cell_type": "code",
   "execution_count": 9,
   "id": "14ff0e58",
   "metadata": {},
   "outputs": [],
   "source": [
    "df.to_sql('test_table01', con=engine, if_exists='replace')"
   ]
  },
  {
   "cell_type": "code",
   "execution_count": null,
   "id": "8057105d",
   "metadata": {},
   "outputs": [],
   "source": []
  },
  {
   "cell_type": "code",
   "execution_count": null,
   "id": "5a18d205",
   "metadata": {},
   "outputs": [],
   "source": []
  }
 ],
 "metadata": {
  "kernelspec": {
   "display_name": "Python 3 (ipykernel)",
   "language": "python",
   "name": "python3"
  },
  "language_info": {
   "codemirror_mode": {
    "name": "ipython",
    "version": 3
   },
   "file_extension": ".py",
   "mimetype": "text/x-python",
   "name": "python",
   "nbconvert_exporter": "python",
   "pygments_lexer": "ipython3",
   "version": "3.9.6"
  }
 },
 "nbformat": 4,
 "nbformat_minor": 5
}
